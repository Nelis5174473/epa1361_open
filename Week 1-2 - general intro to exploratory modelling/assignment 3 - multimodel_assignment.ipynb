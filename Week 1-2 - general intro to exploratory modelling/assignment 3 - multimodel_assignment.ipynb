{
 "cells": [
  {
   "cell_type": "markdown",
   "metadata": {},
   "source": [
    "# EPA1361 - Model-Based Decision Making\n",
    "\n",
    "## Multi-model analysis\n",
    "\n",
    "This exercise uses a simple version of the [Lotka-Volterra predator-prey equations](https://en.wikipedia.org/wiki/Lotka%E2%80%93Volterra_equations) to show how the EMA Workbench can be used for a\n",
    "multi-model analysis, in addition to typical parametric/structural uncertainties. This will let you test the connectors provided in the Workbench for Excel, NetLogo, and Vensim / PySD; we'll also use the models for the sensitivity analysis exercise in week 3.\n",
    "\n",
    "**Assignment**\n",
    "Using the three model files provided and the Python function below, define model objects for each implementation (Excel, NetLogo, Vensim/PySD, and Python), and test them using a single ensemble. Use 50 experiments sampled from the parameters below (so that each experiment will be executed for the 4 models, for a total of 200), and retrieve outputs for the _TIME_, _predators_, and _prey_ variables.\n",
    "   * Excel and Vensim are only supported on Windows\n",
    "   * Vensim requires the DSS version of Vensim\n",
    "   * Netlogo supoprt depends on [jpype](http://jpype.readthedocs.io/en/latest/install.html) and [pynetlogo](https://pynetlogo.readthedocs.io/en/latest/). Also, if you don't have NetLogo installed, please get [NetLogo 6.3.0](https://ccl.northwestern.edu/netlogo/download.shtml)\n",
    "   * for pysd, see [its documentation](http://pysd.readthedocs.io/en/master/installation.html)\n",
    "   * If possible try to work with all model versions, but even 2 or 3 (pure python and something else should be sufficient).\n",
    "\n",
    "\n",
    "|Parameter\t|Range or value\t        |\n",
    "|-----------|--------------:|\n",
    "|prey_birth_rate    \t|0.015 – 0.035\t|\n",
    "|predation_rate|0.0005 – 0.003 \t|\n",
    "|predator_efficiency     \t|0.001 – 0.004\t    |\n",
    "|predator_loss_rate\t    |0.04 – 0.08\t    |\n",
    "|Final time\t    |365\t    |\n",
    "|dt\t    |0.25\t    |\n",
    "\n",
    "* Note that your EMA Workbench installation includes [example scripts](https://github.com/quaquel/EMAworkbench/tree/master/ema_workbench/examples) for the different connectors. The different model objects follow a similar syntax but will need to be slightly adjusted depending on the software (e.g. to specify the NetLogo run length or the sheet name in Excel).\n",
    "  * This [tutorial](https://emaworkbench.readthedocs.io/en/latest/basic_tutorial.html) also shows a simple model in Python, Vensim and Excel connected to the workbench.\n",
    "\n",
    "* These model objects can be used with a replication functionality (for instance to test the effect of stochastic uncertainty in a NetLogo model), which repeats a given experiment over multiple replications. You can use a single replication in this exercise as the models are not stochastic. By default, each outcome array will then have a shape of (# experiments, # replications, # time steps). Try adapting the outcome arrays so that they can be used with the _lines_ plotting function of the Workbench, and plot the results grouped by model.\n",
    "\n",
    "* To check the graphical results, find the maximum absolute error of the time series you obtained for the _prey_ variable in the Excel, NetLogo, and Vensim/PySD models, relative to the Python function."
   ]
  },
  {
   "cell_type": "code",
   "execution_count": 23,
   "outputs": [],
   "source": [
    "# Some imports you may need\n",
    "import numpy as np\n",
    "import matplotlib.pyplot as plt\n",
    "from ema_workbench import SequentialEvaluator\n",
    "from ema_workbench import (Model, RealParameter, TimeSeriesOutcome, perform_experiments, ema_logging)\n",
    "\n",
    "from ema_workbench.connectors.netlogo import NetLogoModel\n",
    "from ema_workbench.connectors.excel import ExcelModel\n",
    "from ema_workbench.connectors.pysd_connector import PysdModel\n",
    "\n",
    "from ema_workbench.em_framework.samplers import LHSSampler\n",
    "from ema_workbench.em_framework.salib_samplers import MorrisSampler, SobolSampler\n",
    "\n",
    "from ema_workbench.analysis.plotting import lines, Density"
   ],
   "metadata": {
    "collapsed": false,
    "ExecuteTime": {
     "end_time": "2023-05-05T09:23:50.275305Z",
     "start_time": "2023-05-05T09:23:50.272354Z"
    }
   }
  },
  {
   "cell_type": "code",
   "execution_count": 24,
   "outputs": [
    {
     "name": "stderr",
     "output_type": "stream",
     "text": [
      "100%|█████████████████████████████████████████| 50/50 [00:00<00:00, 285.77it/s]\n"
     ]
    }
   ],
   "source": [
    "# Import the Python function\n",
    "from model.pred_prey import PredPrey\n",
    "\n",
    "#Instantiate model\n",
    "model = Model('simplemodel', function=PredPrey)\n",
    "\n",
    "#Define uncertainties and outcomes\n",
    "model.uncertainties = [RealParameter(\"prey_birth_rate\", 0.015, 0.035),\n",
    "                       RealParameter(\"predation_rate\", 0.00005, 0.003),\n",
    "                       RealParameter(\"predator_efficiency\", 0.001, 0.004)]\n",
    "\n",
    "model.outcomes = [TimeSeriesOutcome(\"prey\")]\n",
    "\n",
    "with SequentialEvaluator(model) as evaluator:\n",
    "    experiments, outcomes = evaluator.perform_experiments(scenarios=50)"
   ],
   "metadata": {
    "collapsed": false,
    "ExecuteTime": {
     "end_time": "2023-05-05T09:23:51.725485Z",
     "start_time": "2023-05-05T09:23:51.521602Z"
    }
   }
  },
  {
   "cell_type": "code",
   "execution_count": 25,
   "outputs": [
    {
     "data": {
      "text/plain": "    predation_rate  predator_efficiency  prey_birth_rate scenario policy   \n0         0.001923             0.002825         0.028970      200   None  \\\n1         0.002276             0.003956         0.030145      201   None   \n2         0.001642             0.001409         0.032955      202   None   \n3         0.002983             0.001729         0.029521      203   None   \n4         0.000590             0.002332         0.020768      204   None   \n5         0.002849             0.003187         0.018652      205   None   \n6         0.000313             0.001131         0.032483      206   None   \n7         0.002910             0.003812         0.015742      207   None   \n8         0.000741             0.003421         0.030522      208   None   \n9         0.001437             0.002465         0.029245      209   None   \n10        0.000552             0.002756         0.018113      210   None   \n11        0.001862             0.003063         0.016276      211   None   \n12        0.002054             0.001080         0.022595      212   None   \n13        0.000204             0.002906         0.021641      213   None   \n14        0.001011             0.001332         0.024431      214   None   \n15        0.000964             0.003125         0.028238      215   None   \n16        0.002697             0.003285         0.026591      216   None   \n17        0.002212             0.001190         0.025546      217   None   \n18        0.001468             0.002182         0.031685      218   None   \n19        0.000248             0.001930         0.027700      219   None   \n20        0.001106             0.002532         0.017485      220   None   \n21        0.000924             0.002974         0.033621      221   None   \n22        0.002292             0.001828         0.026142      222   None   \n23        0.002505             0.001502         0.017236      223   None   \n24        0.002643             0.003361         0.031936      224   None   \n25        0.001679             0.003259         0.021994      225   None   \n26        0.000817             0.003879         0.020426      226   None   \n27        0.001339             0.001981         0.019141      227   None   \n28        0.001264             0.001038         0.031014      228   None   \n29        0.000519             0.001281         0.023990      229   None   \n30        0.000800             0.002566         0.027264      230   None   \n31        0.002775             0.001650         0.019840      231   None   \n32        0.001576             0.002668         0.016919      232   None   \n33        0.001219             0.003577         0.034936      233   None   \n34        0.002148             0.003663         0.023540      234   None   \n35        0.002354             0.003929         0.015925      235   None   \n36        0.002566             0.002409         0.015275      236   None   \n37        0.000092             0.001712         0.019508      237   None   \n38        0.001764             0.002272         0.026984      238   None   \n39        0.000435             0.002028         0.030701      239   None   \n40        0.002763             0.002124         0.023155      240   None   \n41        0.001376             0.002257         0.034111      241   None   \n42        0.000698             0.003619         0.021170      242   None   \n43        0.001990             0.003497         0.028057      243   None   \n44        0.000115             0.002699         0.025397      244   None   \n45        0.001155             0.001544         0.022953      245   None   \n46        0.002111             0.001875         0.018569      246   None   \n47        0.000358             0.003016         0.034569      247   None   \n48        0.002432             0.001437         0.033207      248   None   \n49        0.001750             0.003701         0.024955      249   None   \n\n          model  \n0   simplemodel  \n1   simplemodel  \n2   simplemodel  \n3   simplemodel  \n4   simplemodel  \n5   simplemodel  \n6   simplemodel  \n7   simplemodel  \n8   simplemodel  \n9   simplemodel  \n10  simplemodel  \n11  simplemodel  \n12  simplemodel  \n13  simplemodel  \n14  simplemodel  \n15  simplemodel  \n16  simplemodel  \n17  simplemodel  \n18  simplemodel  \n19  simplemodel  \n20  simplemodel  \n21  simplemodel  \n22  simplemodel  \n23  simplemodel  \n24  simplemodel  \n25  simplemodel  \n26  simplemodel  \n27  simplemodel  \n28  simplemodel  \n29  simplemodel  \n30  simplemodel  \n31  simplemodel  \n32  simplemodel  \n33  simplemodel  \n34  simplemodel  \n35  simplemodel  \n36  simplemodel  \n37  simplemodel  \n38  simplemodel  \n39  simplemodel  \n40  simplemodel  \n41  simplemodel  \n42  simplemodel  \n43  simplemodel  \n44  simplemodel  \n45  simplemodel  \n46  simplemodel  \n47  simplemodel  \n48  simplemodel  \n49  simplemodel  ",
      "text/html": "<div>\n<style scoped>\n    .dataframe tbody tr th:only-of-type {\n        vertical-align: middle;\n    }\n\n    .dataframe tbody tr th {\n        vertical-align: top;\n    }\n\n    .dataframe thead th {\n        text-align: right;\n    }\n</style>\n<table border=\"1\" class=\"dataframe\">\n  <thead>\n    <tr style=\"text-align: right;\">\n      <th></th>\n      <th>predation_rate</th>\n      <th>predator_efficiency</th>\n      <th>prey_birth_rate</th>\n      <th>scenario</th>\n      <th>policy</th>\n      <th>model</th>\n    </tr>\n  </thead>\n  <tbody>\n    <tr>\n      <th>0</th>\n      <td>0.001923</td>\n      <td>0.002825</td>\n      <td>0.028970</td>\n      <td>200</td>\n      <td>None</td>\n      <td>simplemodel</td>\n    </tr>\n    <tr>\n      <th>1</th>\n      <td>0.002276</td>\n      <td>0.003956</td>\n      <td>0.030145</td>\n      <td>201</td>\n      <td>None</td>\n      <td>simplemodel</td>\n    </tr>\n    <tr>\n      <th>2</th>\n      <td>0.001642</td>\n      <td>0.001409</td>\n      <td>0.032955</td>\n      <td>202</td>\n      <td>None</td>\n      <td>simplemodel</td>\n    </tr>\n    <tr>\n      <th>3</th>\n      <td>0.002983</td>\n      <td>0.001729</td>\n      <td>0.029521</td>\n      <td>203</td>\n      <td>None</td>\n      <td>simplemodel</td>\n    </tr>\n    <tr>\n      <th>4</th>\n      <td>0.000590</td>\n      <td>0.002332</td>\n      <td>0.020768</td>\n      <td>204</td>\n      <td>None</td>\n      <td>simplemodel</td>\n    </tr>\n    <tr>\n      <th>5</th>\n      <td>0.002849</td>\n      <td>0.003187</td>\n      <td>0.018652</td>\n      <td>205</td>\n      <td>None</td>\n      <td>simplemodel</td>\n    </tr>\n    <tr>\n      <th>6</th>\n      <td>0.000313</td>\n      <td>0.001131</td>\n      <td>0.032483</td>\n      <td>206</td>\n      <td>None</td>\n      <td>simplemodel</td>\n    </tr>\n    <tr>\n      <th>7</th>\n      <td>0.002910</td>\n      <td>0.003812</td>\n      <td>0.015742</td>\n      <td>207</td>\n      <td>None</td>\n      <td>simplemodel</td>\n    </tr>\n    <tr>\n      <th>8</th>\n      <td>0.000741</td>\n      <td>0.003421</td>\n      <td>0.030522</td>\n      <td>208</td>\n      <td>None</td>\n      <td>simplemodel</td>\n    </tr>\n    <tr>\n      <th>9</th>\n      <td>0.001437</td>\n      <td>0.002465</td>\n      <td>0.029245</td>\n      <td>209</td>\n      <td>None</td>\n      <td>simplemodel</td>\n    </tr>\n    <tr>\n      <th>10</th>\n      <td>0.000552</td>\n      <td>0.002756</td>\n      <td>0.018113</td>\n      <td>210</td>\n      <td>None</td>\n      <td>simplemodel</td>\n    </tr>\n    <tr>\n      <th>11</th>\n      <td>0.001862</td>\n      <td>0.003063</td>\n      <td>0.016276</td>\n      <td>211</td>\n      <td>None</td>\n      <td>simplemodel</td>\n    </tr>\n    <tr>\n      <th>12</th>\n      <td>0.002054</td>\n      <td>0.001080</td>\n      <td>0.022595</td>\n      <td>212</td>\n      <td>None</td>\n      <td>simplemodel</td>\n    </tr>\n    <tr>\n      <th>13</th>\n      <td>0.000204</td>\n      <td>0.002906</td>\n      <td>0.021641</td>\n      <td>213</td>\n      <td>None</td>\n      <td>simplemodel</td>\n    </tr>\n    <tr>\n      <th>14</th>\n      <td>0.001011</td>\n      <td>0.001332</td>\n      <td>0.024431</td>\n      <td>214</td>\n      <td>None</td>\n      <td>simplemodel</td>\n    </tr>\n    <tr>\n      <th>15</th>\n      <td>0.000964</td>\n      <td>0.003125</td>\n      <td>0.028238</td>\n      <td>215</td>\n      <td>None</td>\n      <td>simplemodel</td>\n    </tr>\n    <tr>\n      <th>16</th>\n      <td>0.002697</td>\n      <td>0.003285</td>\n      <td>0.026591</td>\n      <td>216</td>\n      <td>None</td>\n      <td>simplemodel</td>\n    </tr>\n    <tr>\n      <th>17</th>\n      <td>0.002212</td>\n      <td>0.001190</td>\n      <td>0.025546</td>\n      <td>217</td>\n      <td>None</td>\n      <td>simplemodel</td>\n    </tr>\n    <tr>\n      <th>18</th>\n      <td>0.001468</td>\n      <td>0.002182</td>\n      <td>0.031685</td>\n      <td>218</td>\n      <td>None</td>\n      <td>simplemodel</td>\n    </tr>\n    <tr>\n      <th>19</th>\n      <td>0.000248</td>\n      <td>0.001930</td>\n      <td>0.027700</td>\n      <td>219</td>\n      <td>None</td>\n      <td>simplemodel</td>\n    </tr>\n    <tr>\n      <th>20</th>\n      <td>0.001106</td>\n      <td>0.002532</td>\n      <td>0.017485</td>\n      <td>220</td>\n      <td>None</td>\n      <td>simplemodel</td>\n    </tr>\n    <tr>\n      <th>21</th>\n      <td>0.000924</td>\n      <td>0.002974</td>\n      <td>0.033621</td>\n      <td>221</td>\n      <td>None</td>\n      <td>simplemodel</td>\n    </tr>\n    <tr>\n      <th>22</th>\n      <td>0.002292</td>\n      <td>0.001828</td>\n      <td>0.026142</td>\n      <td>222</td>\n      <td>None</td>\n      <td>simplemodel</td>\n    </tr>\n    <tr>\n      <th>23</th>\n      <td>0.002505</td>\n      <td>0.001502</td>\n      <td>0.017236</td>\n      <td>223</td>\n      <td>None</td>\n      <td>simplemodel</td>\n    </tr>\n    <tr>\n      <th>24</th>\n      <td>0.002643</td>\n      <td>0.003361</td>\n      <td>0.031936</td>\n      <td>224</td>\n      <td>None</td>\n      <td>simplemodel</td>\n    </tr>\n    <tr>\n      <th>25</th>\n      <td>0.001679</td>\n      <td>0.003259</td>\n      <td>0.021994</td>\n      <td>225</td>\n      <td>None</td>\n      <td>simplemodel</td>\n    </tr>\n    <tr>\n      <th>26</th>\n      <td>0.000817</td>\n      <td>0.003879</td>\n      <td>0.020426</td>\n      <td>226</td>\n      <td>None</td>\n      <td>simplemodel</td>\n    </tr>\n    <tr>\n      <th>27</th>\n      <td>0.001339</td>\n      <td>0.001981</td>\n      <td>0.019141</td>\n      <td>227</td>\n      <td>None</td>\n      <td>simplemodel</td>\n    </tr>\n    <tr>\n      <th>28</th>\n      <td>0.001264</td>\n      <td>0.001038</td>\n      <td>0.031014</td>\n      <td>228</td>\n      <td>None</td>\n      <td>simplemodel</td>\n    </tr>\n    <tr>\n      <th>29</th>\n      <td>0.000519</td>\n      <td>0.001281</td>\n      <td>0.023990</td>\n      <td>229</td>\n      <td>None</td>\n      <td>simplemodel</td>\n    </tr>\n    <tr>\n      <th>30</th>\n      <td>0.000800</td>\n      <td>0.002566</td>\n      <td>0.027264</td>\n      <td>230</td>\n      <td>None</td>\n      <td>simplemodel</td>\n    </tr>\n    <tr>\n      <th>31</th>\n      <td>0.002775</td>\n      <td>0.001650</td>\n      <td>0.019840</td>\n      <td>231</td>\n      <td>None</td>\n      <td>simplemodel</td>\n    </tr>\n    <tr>\n      <th>32</th>\n      <td>0.001576</td>\n      <td>0.002668</td>\n      <td>0.016919</td>\n      <td>232</td>\n      <td>None</td>\n      <td>simplemodel</td>\n    </tr>\n    <tr>\n      <th>33</th>\n      <td>0.001219</td>\n      <td>0.003577</td>\n      <td>0.034936</td>\n      <td>233</td>\n      <td>None</td>\n      <td>simplemodel</td>\n    </tr>\n    <tr>\n      <th>34</th>\n      <td>0.002148</td>\n      <td>0.003663</td>\n      <td>0.023540</td>\n      <td>234</td>\n      <td>None</td>\n      <td>simplemodel</td>\n    </tr>\n    <tr>\n      <th>35</th>\n      <td>0.002354</td>\n      <td>0.003929</td>\n      <td>0.015925</td>\n      <td>235</td>\n      <td>None</td>\n      <td>simplemodel</td>\n    </tr>\n    <tr>\n      <th>36</th>\n      <td>0.002566</td>\n      <td>0.002409</td>\n      <td>0.015275</td>\n      <td>236</td>\n      <td>None</td>\n      <td>simplemodel</td>\n    </tr>\n    <tr>\n      <th>37</th>\n      <td>0.000092</td>\n      <td>0.001712</td>\n      <td>0.019508</td>\n      <td>237</td>\n      <td>None</td>\n      <td>simplemodel</td>\n    </tr>\n    <tr>\n      <th>38</th>\n      <td>0.001764</td>\n      <td>0.002272</td>\n      <td>0.026984</td>\n      <td>238</td>\n      <td>None</td>\n      <td>simplemodel</td>\n    </tr>\n    <tr>\n      <th>39</th>\n      <td>0.000435</td>\n      <td>0.002028</td>\n      <td>0.030701</td>\n      <td>239</td>\n      <td>None</td>\n      <td>simplemodel</td>\n    </tr>\n    <tr>\n      <th>40</th>\n      <td>0.002763</td>\n      <td>0.002124</td>\n      <td>0.023155</td>\n      <td>240</td>\n      <td>None</td>\n      <td>simplemodel</td>\n    </tr>\n    <tr>\n      <th>41</th>\n      <td>0.001376</td>\n      <td>0.002257</td>\n      <td>0.034111</td>\n      <td>241</td>\n      <td>None</td>\n      <td>simplemodel</td>\n    </tr>\n    <tr>\n      <th>42</th>\n      <td>0.000698</td>\n      <td>0.003619</td>\n      <td>0.021170</td>\n      <td>242</td>\n      <td>None</td>\n      <td>simplemodel</td>\n    </tr>\n    <tr>\n      <th>43</th>\n      <td>0.001990</td>\n      <td>0.003497</td>\n      <td>0.028057</td>\n      <td>243</td>\n      <td>None</td>\n      <td>simplemodel</td>\n    </tr>\n    <tr>\n      <th>44</th>\n      <td>0.000115</td>\n      <td>0.002699</td>\n      <td>0.025397</td>\n      <td>244</td>\n      <td>None</td>\n      <td>simplemodel</td>\n    </tr>\n    <tr>\n      <th>45</th>\n      <td>0.001155</td>\n      <td>0.001544</td>\n      <td>0.022953</td>\n      <td>245</td>\n      <td>None</td>\n      <td>simplemodel</td>\n    </tr>\n    <tr>\n      <th>46</th>\n      <td>0.002111</td>\n      <td>0.001875</td>\n      <td>0.018569</td>\n      <td>246</td>\n      <td>None</td>\n      <td>simplemodel</td>\n    </tr>\n    <tr>\n      <th>47</th>\n      <td>0.000358</td>\n      <td>0.003016</td>\n      <td>0.034569</td>\n      <td>247</td>\n      <td>None</td>\n      <td>simplemodel</td>\n    </tr>\n    <tr>\n      <th>48</th>\n      <td>0.002432</td>\n      <td>0.001437</td>\n      <td>0.033207</td>\n      <td>248</td>\n      <td>None</td>\n      <td>simplemodel</td>\n    </tr>\n    <tr>\n      <th>49</th>\n      <td>0.001750</td>\n      <td>0.003701</td>\n      <td>0.024955</td>\n      <td>249</td>\n      <td>None</td>\n      <td>simplemodel</td>\n    </tr>\n  </tbody>\n</table>\n</div>"
     },
     "execution_count": 25,
     "metadata": {},
     "output_type": "execute_result"
    }
   ],
   "source": [
    "experiments"
   ],
   "metadata": {
    "collapsed": false,
    "ExecuteTime": {
     "end_time": "2023-05-05T09:23:56.964534Z",
     "start_time": "2023-05-05T09:23:56.961573Z"
    }
   }
  },
  {
   "cell_type": "code",
   "execution_count": 34,
   "outputs": [
    {
     "name": "stdout",
     "output_type": "stream",
     "text": [
      "{'prey': array([[[50.        , 49.88133572, 49.75320834, ..., 23.17531693,\n",
      "         22.75517963, 22.34186832]],\n",
      "\n",
      "       [[50.        , 49.80784663, 49.59690585, ..., 30.77143192,\n",
      "         30.99096156, 31.21186505]],\n",
      "\n",
      "       [[50.        , 50.00140641, 50.00173853, ..., 36.31017317,\n",
      "         36.34629654, 36.38303681]],\n",
      "\n",
      "       ...,\n",
      "\n",
      "       [[50.        , 50.34269922, 50.68570416, ..., 68.47590651,\n",
      "         68.65439832, 68.81817972]],\n",
      "\n",
      "       [[50.        , 49.80710588, 49.61315889, ..., 36.67242404,\n",
      "         36.79925791, 36.92685518]],\n",
      "\n",
      "       [[50.        , 49.87448898, 49.73565292, ..., 14.61298669,\n",
      "         14.70172943, 14.7910147 ]]])}\n"
     ]
    }
   ],
   "source": [
    "print(outcomes)"
   ],
   "metadata": {
    "collapsed": false,
    "ExecuteTime": {
     "end_time": "2023-05-05T09:29:34.212877Z",
     "start_time": "2023-05-05T09:29:34.208470Z"
    }
   }
  },
  {
   "cell_type": "code",
   "execution_count": 37,
   "outputs": [
    {
     "ename": "AttributeError",
     "evalue": "'NoneType' object has no attribute 'T'",
     "output_type": "error",
     "traceback": [
      "\u001B[0;31m---------------------------------------------------------------------------\u001B[0m",
      "\u001B[0;31mAttributeError\u001B[0m                            Traceback (most recent call last)",
      "Cell \u001B[0;32mIn[37], line 1\u001B[0m\n\u001B[0;32m----> 1\u001B[0m fig, axes \u001B[38;5;241m=\u001B[39m \u001B[43mlines\u001B[49m\u001B[43m(\u001B[49m\u001B[43mexperiments\u001B[49m\u001B[43m,\u001B[49m\u001B[43m \u001B[49m\u001B[43moutcomes\u001B[49m\u001B[43m,\u001B[49m\u001B[43m \u001B[49m\u001B[43mdensity\u001B[49m\u001B[38;5;241;43m=\u001B[39;49m\u001B[43mDensity\u001B[49m\u001B[38;5;241;43m.\u001B[39;49m\u001B[43mVIOLIN\u001B[49m\u001B[43m,\u001B[49m\u001B[43m \u001B[49m\u001B[43mgroup_by\u001B[49m\u001B[38;5;241;43m=\u001B[39;49m\u001B[38;5;124;43m\"\u001B[39;49m\u001B[38;5;124;43mmodel\u001B[39;49m\u001B[38;5;124;43m\"\u001B[39;49m\u001B[43m)\u001B[49m\n\u001B[1;32m      3\u001B[0m plt\u001B[38;5;241m.\u001B[39mshow()\n",
      "File \u001B[0;32m~/opt/anaconda3/envs/mbds/lib/python3.11/site-packages/ema_workbench/analysis/plotting.py:364\u001B[0m, in \u001B[0;36mlines\u001B[0;34m(experiments, outcomes, outcomes_to_show, group_by, grouping_specifiers, density, legend, titles, ylabels, experiments_to_show, show_envelope, log)\u001B[0m\n\u001B[1;32m    361\u001B[0m         tl\u001B[38;5;241m.\u001B[39mset_visible(\u001B[38;5;28;01mFalse\u001B[39;00m)\n\u001B[1;32m    363\u001B[0m \u001B[38;5;28;01mif\u001B[39;00m group_by:\n\u001B[0;32m--> 364\u001B[0m     \u001B[43mgroup_by_lines\u001B[49m\u001B[43m(\u001B[49m\u001B[43moutcomes\u001B[49m\u001B[43m,\u001B[49m\u001B[43m \u001B[49m\u001B[43moutcome_to_plot\u001B[49m\u001B[43m,\u001B[49m\u001B[43m \u001B[49m\u001B[43mtime\u001B[49m\u001B[43m,\u001B[49m\u001B[43m \u001B[49m\u001B[43mdensity\u001B[49m\u001B[43m,\u001B[49m\u001B[43m \u001B[49m\u001B[43max\u001B[49m\u001B[43m,\u001B[49m\u001B[43m \u001B[49m\u001B[43max_d\u001B[49m\u001B[43m,\u001B[49m\u001B[43m \u001B[49m\u001B[43mgrouping_labels\u001B[49m\u001B[43m,\u001B[49m\u001B[43m \u001B[49m\u001B[43mlog\u001B[49m\u001B[43m)\u001B[49m\n\u001B[1;32m    365\u001B[0m \u001B[38;5;28;01melse\u001B[39;00m:\n\u001B[1;32m    366\u001B[0m     simple_lines(outcomes, outcome_to_plot, time, density, ax, ax_d, log)\n",
      "File \u001B[0;32m~/opt/anaconda3/envs/mbds/lib/python3.11/site-packages/ema_workbench/analysis/plotting.py:536\u001B[0m, in \u001B[0;36mgroup_by_lines\u001B[0;34m(outcomes, outcome_to_plot, time, density, ax, ax_d, group_by_labels, log)\u001B[0m\n\u001B[1;32m    533\u001B[0m     value \u001B[38;5;241m=\u001B[39m value[outcome_to_plot]\n\u001B[1;32m    535\u001B[0m     color \u001B[38;5;241m=\u001B[39m get_color(j)\n\u001B[0;32m--> 536\u001B[0m     ax\u001B[38;5;241m.\u001B[39mplot(\u001B[43mtime\u001B[49m\u001B[38;5;241;43m.\u001B[39;49m\u001B[43mT\u001B[49m[:, np\u001B[38;5;241m.\u001B[39mnewaxis], value\u001B[38;5;241m.\u001B[39mT, c\u001B[38;5;241m=\u001B[39mcolor, ms\u001B[38;5;241m=\u001B[39m\u001B[38;5;241m1\u001B[39m, markevery\u001B[38;5;241m=\u001B[39m\u001B[38;5;241m5\u001B[39m)\n\u001B[1;32m    538\u001B[0m \u001B[38;5;28;01mif\u001B[39;00m density:\n\u001B[1;32m    539\u001B[0m     group_density(ax_d, density, outcomes, outcome_to_plot, group_by_labels, log)\n",
      "\u001B[0;31mAttributeError\u001B[0m: 'NoneType' object has no attribute 'T'"
     ]
    },
    {
     "data": {
      "text/plain": "<Figure size 640x480 with 2 Axes>",
      "image/png": "[encoded data removed]"
     },
     "metadata": {},
     "output_type": "display_data"
    }
   ],
   "source": [
    "fig, axes = lines(experiments, outcomes, density=Density.VIOLIN, group_by=\"model\")\n",
    "\n",
    "plt.show()"
   ],
   "metadata": {
    "collapsed": false,
    "ExecuteTime": {
     "end_time": "2023-05-05T09:34:44.100252Z",
     "start_time": "2023-05-05T09:34:43.856024Z"
    }
   }
  },
  {
   "cell_type": "code",
   "execution_count": 3,
   "metadata": {
    "collapsed": false,
    "jupyter": {
     "outputs_hidden": false
    },
    "ExecuteTime": {
     "start_time": "2023-04-07T13:56:51.450975Z",
     "end_time": "2023-04-07T13:56:51.453653Z"
    }
   },
   "outputs": [],
   "source": [
    "# Define uncertainties and outcomes\n",
    "\n",
    "\n",
    "# Define model objects for the different implementations\n"
   ]
  }
 ],
 "metadata": {
  "kernelspec": {
   "display_name": "Python 3",
   "language": "python",
   "name": "python3"
  },
  "language_info": {
   "codemirror_mode": {
    "name": "ipython",
    "version": 3
   },
   "file_extension": ".py",
   "mimetype": "text/x-python",
   "name": "python",
   "nbconvert_exporter": "python",
   "pygments_lexer": "ipython3",
   "version": "3.8.5"
  }
 },
 "nbformat": 4,
 "nbformat_minor": 4
}
